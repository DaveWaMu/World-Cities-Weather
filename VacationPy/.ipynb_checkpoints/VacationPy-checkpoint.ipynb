{
 "cells": [
  {
   "cell_type": "markdown",
   "metadata": {},
   "source": [
    "# VacationPy\n",
    "----\n",
    "\n",
    "#### Note\n",
    "* Keep an eye on your API usage. Use https://developers.google.com/maps/reporting/gmp-reporting as reference for how to monitor your usage and billing.\n",
    "\n",
    "* Instructions have been included for each segment. You do not have to follow them exactly, but they are included to help you think through the steps."
   ]
  },
  {
   "cell_type": "code",
   "execution_count": null,
   "metadata": {},
   "outputs": [],
   "source": [
    "# Dependencies and Setup\n",
    "import matplotlib.pyplot as plt\n",
    "import pandas as pd\n",
    "import numpy as np\n",
    "import requests\n",
    "import gmaps\n",
    "import os\n",
    "import json\n",
    "# Import API key\n",
    "from api_keys import g_key"
   ]
  },
  {
   "cell_type": "markdown",
   "metadata": {},
   "source": [
    "### Store Part I results into DataFrame\n",
    "* Load the csv exported in Part I to a DataFrame"
   ]
  },
  {
   "cell_type": "code",
   "execution_count": null,
   "metadata": {},
   "outputs": [],
   "source": [
    "part_one_df=pd.read_csv('../output_data/cities.csv')\n",
    "del part_one_df['Unnamed: 0']\n",
    "part_one_df.head()"
   ]
  },
  {
   "cell_type": "markdown",
   "metadata": {},
   "source": [
    "### Humidity Heatmap\n",
    "* Configure gmaps.\n",
    "* Use the Lat and Lng as locations and Humidity as the weight.\n",
    "* Add Heatmap layer to map."
   ]
  },
  {
   "cell_type": "code",
   "execution_count": null,
   "metadata": {},
   "outputs": [],
   "source": [
    "gmaps.configure(api_key=g_key)\n",
    "locations = part_one_df[[\"Latitude\", \"Longitude\"]]\n",
    "humidity = part_one_df[\"Humidity (%)\"]\n",
    "fig = gmaps.figure()\n",
    "heatmap_layer=gmaps.heatmap_layer(locations, weights=humidity)\n",
    "fig.add_layer(heatmap_layer)\n",
    "# fig"
   ]
  },
  {
   "cell_type": "code",
   "execution_count": null,
   "metadata": {},
   "outputs": [],
   "source": [
    "heatmap_layer.max_intensity = 100\n",
    "heatmap_layer.point_radius = 2\n",
    "heatmap_layer.dissipating=False\n",
    "fig"
   ]
  },
  {
   "cell_type": "markdown",
   "metadata": {},
   "source": [
    "### Create new DataFrame fitting weather criteria\n",
    "* Narrow down the cities to fit weather conditions.\n",
    "* Drop any rows will null values."
   ]
  },
  {
   "cell_type": "code",
   "execution_count": null,
   "metadata": {},
   "outputs": [],
   "source": [
    "part_one_df.head()\n",
    "ideal_df=part_one_df.loc[(part_one_df['Temperature (F)'] >= 60) & (part_one_df['Temperature (F)'] <= 80)\n",
    "                        & (part_one_df['Humidity (%)']<70) & (part_one_df['Wind Speed (mph)']<5)]\n",
    "# print(len(ideal_df))\n",
    "ideal_df=ideal_df.reset_index()\n",
    "del ideal_df['index']\n",
    "ideal_df.head()"
   ]
  },
  {
   "cell_type": "markdown",
   "metadata": {},
   "source": [
    "### Hotel Map\n",
    "* Store into variable named `hotel_df`.\n",
    "* Add a \"Hotel Name\" column to the DataFrame.\n",
    "* Set parameters to search for hotels with 5000 meters.\n",
    "* Hit the Google Places API for each city's coordinates.\n",
    "* Store the first Hotel result into the DataFrame.\n",
    "* Plot markers on top of the heatmap."
   ]
  },
  {
   "cell_type": "code",
   "execution_count": null,
   "metadata": {},
   "outputs": [],
   "source": [
    "hotel_dict={'Hotel Name':[],'City':[],'Country':[],'Place ID':[],'Lat':[],'Lng':[]}\n",
    "coordinates_list=[]\n",
    "for index, row in ideal_df.iterrows():\n",
    "    #search parameters\n",
    "    input='hotel'\n",
    "    inputtype='textquery'\n",
    "    lat=row[\"Latitude\"]\n",
    "    lng=row[\"Longitude\"]\n",
    "    radius=5000\n",
    "    locationbias=f'circle:{radius}@{lat},{lng}'\n",
    "    parameters={\n",
    "        'key':g_key,\n",
    "        'input':input,\n",
    "        'inputtype':inputtype,\n",
    "        'locationbias':locationbias,}\n",
    "    \n",
    "    #Google Search\n",
    "    url=f'https://maps.googleapis.com/maps/api/place/findplacefromtext/json'\n",
    "    response = requests.get(url, parameters).json()\n",
    "#     print(json.dumps(response, indent=4))\n",
    "    place_id=response['candidates'][0]['place_id']\n",
    "#     print(place_id)\n",
    "    parameters2={\n",
    "        'key':g_key,\n",
    "        'place_id':place_id,}\n",
    "    \n",
    "    #Google Search 2\n",
    "    url2=f'https://maps.googleapis.com/maps/api/place/details/json'\n",
    "    response2=requests.get(url2, parameters2).json()\n",
    "#     print(json.dumps(response2, indent=4))\n",
    "#     print(response2['result']['address_components'])\n",
    "    list=len(response2['result']['address_components'])\n",
    "    hotel_dict['Place ID'].append(place_id)\n",
    "    \n",
    "    #Results\n",
    "    for k, v in response2['result'].items():\n",
    "        if k == 'name':\n",
    "            hotel_name=v\n",
    "            hotel_dict['Hotel Name'].append(hotel_name)\n",
    "#             print(hotel_name)\n",
    "    lat=response2['result']['geometry']['location']['lat']\n",
    "    hotel_dict['Lat'].append(lat)\n",
    "#     print(lat)\n",
    "    lng=response2['result']['geometry']['location']['lng']\n",
    "    hotel_dict['Lng'].append(lng)\n",
    "#     print(lng)\n",
    "    for i in range(0,list):\n",
    "        if response2['result']['address_components'][i]['types'][0]=='locality':\n",
    "            city=response2['result']['address_components'][i]['long_name']\n",
    "            hotel_dict['City'].append(city)\n",
    "#             print(city)\n",
    "        if response2['result']['address_components'][i]['types'][0]=='country':\n",
    "            country=response2['result']['address_components'][i]['long_name']\n",
    "            hotel_dict['Country'].append(country)\n",
    "#             print(country)\n",
    "    if len(hotel_dict['Place ID']) != len(hotel_dict['Hotel Name']):\n",
    "        hotel_dict['Hotel Name'].append('Unknown')\n",
    "#         print('No Hotel Name Found')\n",
    "    if len(hotel_dict['Place ID']) != len(hotel_dict['City']):\n",
    "        hotel_dict['City'].append('Unknown')\n",
    "#         print('No City Found')\n",
    "    if len(hotel_dict['Place ID']) != len(hotel_dict['Country']):\n",
    "        hotel_dict['Country'].append('Unknown')\n",
    "#         print('No Country Found')"
   ]
  },
  {
   "cell_type": "code",
   "execution_count": null,
   "metadata": {},
   "outputs": [],
   "source": [
    "# print(len(hotel_dict['Hotel Name']))\n",
    "# print(len(hotel_dict['City']))\n",
    "# print(len(hotel_dict['Country']))\n",
    "# print(len(hotel_dict['Place ID']))\n",
    "# print(len(hotel_dict['Lat']))\n",
    "# print(len(hotel_dict['Lng']))\n",
    "\n",
    "hotel_df=pd.DataFrame(hotel_dict)\n",
    "# print(len(hotel_df.value_counts()))\n",
    "hotel_df=hotel_df.drop_duplicates()\n",
    "# print(len(hotel_df.value_counts()))\n",
    "hotel_df"
   ]
  },
  {
   "cell_type": "code",
   "execution_count": null,
   "metadata": {},
   "outputs": [],
   "source": [
    "# NOTE: Do not change any of the code in this cell\n",
    "\n",
    "# Using the template add the hotel marks to the heatmap\n",
    "info_box_template = \"\"\"\n",
    "<dl>\n",
    "<dt>Name</dt><dd>{Hotel Name}</dd>\n",
    "<dt>City</dt><dd>{City}</dd>\n",
    "<dt>Country</dt><dd>{Country}</dd>\n",
    "</dl>\n",
    "\"\"\"\n",
    "# Store the DataFrame Row\n",
    "# NOTE: be sure to update with your DataFrame name\n",
    "hotel_info = [info_box_template.format(**row) for index, row in hotel_df.iterrows()]\n",
    "locations = hotel_df[[\"Lat\", \"Lng\"]]"
   ]
  },
  {
   "cell_type": "code",
   "execution_count": null,
   "metadata": {},
   "outputs": [],
   "source": [
    "# Add marker layer ontop of heat map\n",
    "markers = gmaps.marker_layer(locations, info_box_content=hotel_info)\n",
    "fig.add_layer(markers)\n",
    "\n",
    "# Display figure\n",
    "fig"
   ]
  },
  {
   "cell_type": "code",
   "execution_count": null,
   "metadata": {},
   "outputs": [],
   "source": []
  }
 ],
 "metadata": {
  "kernelspec": {
   "display_name": "Python 3",
   "language": "python",
   "name": "python3"
  },
  "language_info": {
   "codemirror_mode": {
    "name": "ipython",
    "version": 3
   },
   "file_extension": ".py",
   "mimetype": "text/x-python",
   "name": "python",
   "nbconvert_exporter": "python",
   "pygments_lexer": "ipython3",
   "version": "3.8.5"
  },
  "latex_envs": {
   "LaTeX_envs_menu_present": true,
   "autoclose": false,
   "autocomplete": true,
   "bibliofile": "biblio.bib",
   "cite_by": "apalike",
   "current_citInitial": 1,
   "eqLabelWithNumbers": true,
   "eqNumInitial": 1,
   "hotkeys": {
    "equation": "Ctrl-E",
    "itemize": "Ctrl-I"
   },
   "labels_anchors": false,
   "latex_user_defs": false,
   "report_style_numbering": false,
   "user_envs_cfg": false
  }
 },
 "nbformat": 4,
 "nbformat_minor": 4
}
