{
 "cells": [
  {
   "cell_type": "markdown",
   "metadata": {},
   "source": [
    "# WeatherPy\n",
    "----\n",
    "\n",
    "#### Note\n",
    "* Instructions have been included for each segment. You do not have to follow them exactly, but they are included to help you think through the steps."
   ]
  },
  {
   "cell_type": "code",
   "execution_count": null,
   "metadata": {
    "scrolled": true
   },
   "outputs": [],
   "source": [
    "# Dependencies and Setup\n",
    "import matplotlib.pyplot as plt\n",
    "import pandas as pd\n",
    "import numpy as np\n",
    "import requests\n",
    "import time\n",
    "import json\n",
    "from scipy.stats import linregress\n",
    "\n",
    "# Import API key\n",
    "from api_keys import weather_api_key\n",
    "\n",
    "# Incorporated citipy to determine city based on latitude and longitude\n",
    "from citipy import citipy\n",
    "\n",
    "# Output File (CSV)\n",
    "output_data_file = \"output_data/cities.csv\"\n",
    "\n",
    "# Range of latitudes and longitudes\n",
    "lat_range = (-90, 90)\n",
    "lng_range = (-180, 180)"
   ]
  },
  {
   "cell_type": "markdown",
   "metadata": {},
   "source": [
    "## Generate Cities List"
   ]
  },
  {
   "cell_type": "code",
   "execution_count": null,
   "metadata": {},
   "outputs": [],
   "source": [
    "# List for holding lat_lngs and cities\n",
    "lat_lngs = []\n",
    "cities = []\n",
    "\n",
    "# Create a set of random lat and lng combinations\n",
    "lats = np.random.uniform(lat_range[0], lat_range[1], size=1500)\n",
    "lngs = np.random.uniform(lng_range[0], lng_range[1], size=1500)\n",
    "lat_lngs = zip(lats, lngs)\n",
    "\n",
    "# Identify nearest city for each lat, lng combination\n",
    "for lat_lng in lat_lngs:\n",
    "    city = citipy.nearest_city(lat_lng[0], lat_lng[1]).city_name\n",
    "    \n",
    "    # If the city is unique, then add it to a our cities list\n",
    "    if city not in cities:\n",
    "        cities.append(city)\n",
    "\n",
    "# Print the city count to confirm sufficient count\n",
    "today = time.strftime(\"%m/%d/%Y\")\n",
    "print(len(cities))\n",
    "# print(cities[0])"
   ]
  },
  {
   "cell_type": "markdown",
   "metadata": {},
   "source": [
    "### Perform API Calls\n",
    "* Perform a weather check on each city using a series of successive API calls.\n",
    "* Include a print log of each city as it'sbeing processed (with the city number and city name).\n"
   ]
  },
  {
   "cell_type": "code",
   "execution_count": null,
   "metadata": {
    "scrolled": true
   },
   "outputs": [],
   "source": [
    "list_dict = {'City Name': [], 'City ID': [], 'Latitude': [], 'Longitude':[], 'Temperature (F)': [], 'Humidity (%)': [], 'Cloudiness (%)': [], 'Wind Speed (mph)': []}\n",
    "skip_count=0\n",
    "\n",
    "for city in cities:\n",
    "    url=f'https://api.openweathermap.org/data/2.5/weather?q={city}&units=imperial&appid={weather_api_key}'\n",
    "#     print(url)\n",
    "    response=requests.get(url).json()\n",
    "#     print(type(response))\n",
    "#     print(city)\n",
    "#     print(response['name'])\n",
    "#     print(json.dumps(response, indent=4, sort_keys=True))\n",
    "    try:\n",
    "        city_name=response['name'].title()\n",
    "        city_id=response['id']\n",
    "    except KeyError:\n",
    "        print(\"City not found... skipping.\")\n",
    "        skip_count+=1\n",
    "        print(f'Skipped Cities = {skip_count}')\n",
    "        print(f'----------------------------')\n",
    "        continue\n",
    "    if city != city_name:\n",
    "        if city_id!=response['id']:\n",
    "            print(\"City not found... skipping.\")\n",
    "            skip_count+=1\n",
    "            print(f'Skipped Cities = {skip_count}')\n",
    "            print(f'----------------------------')\n",
    "            continue\n",
    "    print(f'City Name = {city_name}')\n",
    "    list_dict['City Name'].append(city_name)\n",
    "#     print(list_dict['City Name'])\n",
    "    print(f'Searched City Name = {city}')\n",
    "    print(f'City ID = {city_id}')\n",
    "    list_dict['City ID'].append(city_id)\n",
    "#     print(list_dict['City ID'])\n",
    "    lat=response['coord']['lat']\n",
    "    print(f'Latitude = {lat}')\n",
    "    list_dict['Latitude'].append(lat)\n",
    "#     print(list_dict['Latitude'])\n",
    "    lon=response['coord']['lon']\n",
    "    print(f'Longitude = {lon}')\n",
    "    list_dict['Longitude'].append(lon)\n",
    "#     print(list_dict['Longitude'])\n",
    "    temp=response['main']['temp']\n",
    "    print(f'Temperature = {temp}F')\n",
    "    list_dict['Temperature (F)'].append(temp)\n",
    "#     print(list_dict['Temperature (F)'])\n",
    "    humidity=response['main']['humidity']\n",
    "    print(f'Humidity = {humidity}%')\n",
    "    list_dict['Humidity (%)'].append(humidity)\n",
    "#     print(list_dict['Humidity (%)'])\n",
    "    clouds=response['clouds']['all']\n",
    "    print(f'Cloudiness = {clouds}% cloud coverage')\n",
    "    list_dict['Cloudiness (%)'].append(clouds)\n",
    "#     print(list_dict['Cloudiness (%)'])\n",
    "    wind_speed=response['wind']['speed']\n",
    "    print(f'Wind Speed = {wind_speed}mph')\n",
    "    list_dict['Wind Speed (mph)'].append(wind_speed)\n",
    "#     print(list_dict['Wind Speed (mph)'])\n",
    "#     print(f'Skipped Cities = {skip_count}')\n",
    "    print(f'----------------------------')\n",
    "print(f'Skipped Cities = {skip_count}')\n",
    "total_cities=len(list_dict['City Name'])\n",
    "print(f'Total Cities = {total_cities}')"
   ]
  },
  {
   "cell_type": "markdown",
   "metadata": {},
   "source": [
    "### Convert Raw Data to DataFrame\n",
    "* Export the city data into a .csv.\n",
    "* Display the DataFrame"
   ]
  },
  {
   "cell_type": "code",
   "execution_count": null,
   "metadata": {},
   "outputs": [],
   "source": [
    "city_weather_df=pd.DataFrame(list_dict)\n",
    "# print(len(city_weather_df['City ID']))\n",
    "duplicate_check=city_weather_df['City ID'].unique()\n",
    "# print(len(duplicate_check))\n",
    "duplicate_city_id = city_weather_df.loc[city_weather_df.duplicated(subset=['City ID']),'City ID'].unique()\n",
    "# print(duplicate_city_id)\n",
    "city_weather_df = city_weather_df[city_weather_df['City ID'].isin(duplicate_city_id)==False]\n",
    "# print(len(city_weather_df))\n",
    "city_weather_df.to_csv('../output_data/cities.csv')"
   ]
  },
  {
   "cell_type": "code",
   "execution_count": null,
   "metadata": {},
   "outputs": [],
   "source": [
    "city_weather_df.head()"
   ]
  },
  {
   "cell_type": "markdown",
   "metadata": {},
   "source": [
    "## Inspect the data and remove the cities where the humidity > 100%.\n",
    "----\n",
    "Skip this step if there are no cities that have humidity > 100%. "
   ]
  },
  {
   "cell_type": "code",
   "execution_count": null,
   "metadata": {},
   "outputs": [],
   "source": [
    "humidity_over=city_weather_df.loc[city_weather_df['Humidity (%)'] >100]\n",
    "# print(type(humidity_over))\n",
    "humidity_over.head()"
   ]
  },
  {
   "cell_type": "code",
   "execution_count": null,
   "metadata": {},
   "outputs": [],
   "source": [
    "#  Get the indices of cities that have humidity over 100%.\n"
   ]
  },
  {
   "cell_type": "code",
   "execution_count": null,
   "metadata": {},
   "outputs": [],
   "source": [
    "# Make a new DataFrame equal to the city data to drop all humidity outliers by index.\n",
    "# Passing \"inplace=False\" will make a copy of the city_data DataFrame, which we call \"clean_city_data\".\n"
   ]
  },
  {
   "cell_type": "code",
   "execution_count": null,
   "metadata": {},
   "outputs": [],
   "source": [
    "\n"
   ]
  },
  {
   "cell_type": "markdown",
   "metadata": {},
   "source": [
    "## Plotting the Data\n",
    "* Use proper labeling of the plots using plot titles (including date of analysis) and axes labels.\n",
    "* Save the plotted figures as .pngs."
   ]
  },
  {
   "cell_type": "markdown",
   "metadata": {},
   "source": [
    "## Latitude vs. Temperature Plot"
   ]
  },
  {
   "cell_type": "code",
   "execution_count": null,
   "metadata": {
    "scrolled": true
   },
   "outputs": [],
   "source": [
    "x_axis=city_weather_df['Latitude'].tolist()\n",
    "# print(type(y_axis))\n",
    "max_lat=max(x_axis)\n",
    "min_lat=min(x_axis)\n",
    "range_lat=max_lat-min_lat\n",
    "# print(len(x_axis),max_lat,min_lat)\n",
    "y_axis=city_weather_df['Temperature (F)'].tolist()\n",
    "# print(type(x_axis))\n",
    "max_temp=max(y_axis)\n",
    "min_temp=min(y_axis)\n",
    "range_temp=max_temp-min_temp\n",
    "# print(len(y_axis),max_temp,min_temp)\n",
    "\n",
    "#Graphing functions\n",
    "plt.scatter(x_axis, y_axis)\n",
    "plt.xlabel('Latitude')\n",
    "plt.ylabel('Temperature (F)')\n",
    "plt.title(f'Figure 1. Temperature (F) vs. City Latitude ({today})')\n",
    "plt.xlim(-round(max_lat+5),round(max_lat+5))\n",
    "plt.ylim(round(min_temp-5), round(max_temp+5))\n",
    "\n",
    "plt.tight_layout()\n",
    "\n",
    "plt.savefig(\"../output_data/Figure1.png\")\n",
    "plt.show()\n",
    "print(f\"Figure 1 shows a city's latitude and its current temperature in degrees Fahrenheit as of {today}.\")"
   ]
  },
  {
   "cell_type": "markdown",
   "metadata": {},
   "source": [
    "## Latitude vs. Humidity Plot"
   ]
  },
  {
   "cell_type": "code",
   "execution_count": null,
   "metadata": {},
   "outputs": [],
   "source": [
    "y_axis=city_weather_df['Humidity (%)'].tolist()\n",
    "max_hum=max(y_axis)\n",
    "min_hum=min(y_axis)\n",
    "range_hum=max_hum-min_hum\n",
    "# print(range_hum,max_hum,min_hum)\n",
    "\n",
    "#Graphing functions\n",
    "plt.scatter(x_axis, y_axis)\n",
    "plt.xlabel('Latitude')\n",
    "plt.ylabel('Humidity (%)')\n",
    "plt.title(f'Figure 2. Humidity (%) vs. City Latitude ({today})')\n",
    "plt.xlim(-round(max_lat+5),round(max_lat+5))\n",
    "plt.ylim(-2, 102)\n",
    "\n",
    "plt.tight_layout()\n",
    "\n",
    "plt.savefig(\"../output_data/Figure2.png\")\n",
    "plt.show()\n",
    "print(f\"Figure 2 shows a city's latitude and its current percent humidity as of {today}.\")"
   ]
  },
  {
   "cell_type": "markdown",
   "metadata": {},
   "source": [
    "## Latitude vs. Cloudiness Plot"
   ]
  },
  {
   "cell_type": "code",
   "execution_count": null,
   "metadata": {},
   "outputs": [],
   "source": [
    "y_axis=city_weather_df['Cloudiness (%)'].tolist()\n",
    "max_cloud=max(y_axis)\n",
    "min_hum=min(y_axis)\n",
    "range_hum=max_hum-min_hum\n",
    "# print(range_hum,max_hum,min_hum)\n",
    "\n",
    "#Graphing functions\n",
    "plt.scatter(x_axis, y_axis)\n",
    "plt.xlabel('Latitude')\n",
    "plt.ylabel('Cloudiness (%)')\n",
    "plt.title(f'Figure 3. Cloudiness (%) vs. City Latitude ({today})')\n",
    "plt.xlim(-round(max_lat+5),round(max_lat+5))\n",
    "plt.ylim(-2, 102)\n",
    "\n",
    "plt.tight_layout()\n",
    "\n",
    "plt.savefig(\"../output_data/Figure3.png\")\n",
    "plt.show()\n",
    "print(f\"Figure 3 shows a city's latitude and its current percent cloud cover as of {today}.\")"
   ]
  },
  {
   "cell_type": "markdown",
   "metadata": {},
   "source": [
    "## Latitude vs. Wind Speed Plot"
   ]
  },
  {
   "cell_type": "code",
   "execution_count": null,
   "metadata": {},
   "outputs": [],
   "source": [
    "y_axis=city_weather_df['Wind Speed (mph)'].tolist()\n",
    "max_wind=max(y_axis)\n",
    "min_wind=min(y_axis)\n",
    "range_wind=max_hum-min_hum\n",
    "# print(range_wind,max_wind,min_wind)\n",
    "\n",
    "#Graphing functions\n",
    "plt.scatter(x_axis, y_axis)\n",
    "plt.xlabel('Latitude')\n",
    "plt.ylabel('Wind Speed (mph)')\n",
    "plt.title(f'Figure 4. Wind Speed (mph) vs. City Latitude ({today})')\n",
    "plt.xlim(-round(max_lat+5),round(max_lat+5))\n",
    "plt.ylim(-1, round(max_wind+3))\n",
    "\n",
    "plt.tight_layout()\n",
    "\n",
    "plt.savefig(\"../output_data/Figure4.png\")\n",
    "plt.show()\n",
    "print(f\"Figure 4 shows a city's latitude and its current wind speed in miles per hour as of {today}.\")"
   ]
  },
  {
   "cell_type": "markdown",
   "metadata": {},
   "source": [
    "## Linear Regression"
   ]
  },
  {
   "cell_type": "code",
   "execution_count": null,
   "metadata": {},
   "outputs": [],
   "source": [
    "northern_lat_df = city_weather_df.loc[city_weather_df['Latitude']>=0]\n",
    "southern_lat_df = city_weather_df.loc[city_weather_df['Latitude']<0]\n",
    "\n",
    "northern_lat_df"
   ]
  },
  {
   "cell_type": "markdown",
   "metadata": {},
   "source": [
    "####  Northern Hemisphere - Max Temp vs. Latitude Linear Regression"
   ]
  },
  {
   "cell_type": "code",
   "execution_count": null,
   "metadata": {},
   "outputs": [],
   "source": [
    "x_values = northern_lat_df['Latitude']\n",
    "max_lat=max(x_values)\n",
    "min_lat=min(x_values)\n",
    "range_lat=max_lat-min_lat\n",
    "y_values = northern_lat_df['Temperature (F)']\n",
    "max_temp=max(y_values)\n",
    "min_temp=min(y_values)\n",
    "range_temp=max_temp-min_temp\n",
    "\n",
    "(slope, intercept, rvalue, pvalue, stderr) = linregress(x_values, y_values)\n",
    "regress_values = x_values * slope + intercept\n",
    "line_eq = \"y = \" + str(round(slope,2)) + \"x + \" + str(round(intercept,2))\n",
    "print(f\"r-squared = {rvalue**2}\")\n",
    "plt.scatter(x_values,y_values)\n",
    "plt.plot(x_values,regress_values,\"red\")\n",
    "plt.annotate(line_eq,(6,10),color=\"red\")\n",
    "plt.xlabel('Latitude')\n",
    "plt.ylabel('Temperature (F)')\n",
    "plt.title(f'Figure 5. Temperature (F) vs. City Latitude in the Northern Hemishpere ({today})')\n",
    "plt.xlim(round(min_lat-5),round(max_lat+5))\n",
    "plt.ylim(round(min_temp-5), round(max_temp+5))\n",
    "plt.tight_layout()\n",
    "\n",
    "plt.savefig(\"../output_data/Figure5.png\")\n",
    "plt.show()\n",
    "\n",
    "print(f\"Figure 5 shows a strong, negative, linear relationship between a city's latitude in the Northern Hemishpere and its current temperature in degrees Fahrenheit as of {today}.\")\n",
    "print(f\"The greater a city's latitude is, the more likely it will have a lower temperature.\")"
   ]
  },
  {
   "cell_type": "markdown",
   "metadata": {},
   "source": [
    "####  Southern Hemisphere - Max Temp vs. Latitude Linear Regression"
   ]
  },
  {
   "cell_type": "code",
   "execution_count": null,
   "metadata": {},
   "outputs": [],
   "source": [
    "x_values = southern_lat_df['Latitude']\n",
    "max_lat=max(x_values)\n",
    "min_lat=min(x_values)\n",
    "range_lat=max_lat-min_lat\n",
    "y_values = southern_lat_df['Temperature (F)']\n",
    "max_temp=max(y_values)\n",
    "min_temp=min(y_values)\n",
    "range_temp=max_temp-min_temp\n",
    "\n",
    "(slope, intercept, rvalue, pvalue, stderr) = linregress(x_values, y_values)\n",
    "regress_values = x_values * slope + intercept\n",
    "line_eq = \"y = \" + str(round(slope,2)) + \"x + \" + str(round(intercept,2))\n",
    "print(f\"r-squared = {rvalue**2}\")\n",
    "plt.scatter(x_values,y_values)\n",
    "plt.plot(x_values,regress_values,\"red\")\n",
    "plt.annotate(line_eq,(-30,40),color=\"red\")\n",
    "plt.xlabel('Latitude')\n",
    "plt.ylabel('Temperature (F)')\n",
    "plt.title(f'Figure 6. Temperature (F) vs. City Latitude in the Southern Hemishpere ({today})')\n",
    "plt.xlim(round(min_lat-5),round(max_lat+5))\n",
    "plt.ylim(round(min_temp-5), round(max_temp+5))\n",
    "plt.tight_layout()\n",
    "\n",
    "plt.savefig(\"../output_data/Figure6.png\")\n",
    "plt.show()\n",
    "\n",
    "print(f\"Figure 6 shows a moderate, positive, linear relationship between a city's latitude in the Southern Hemishpere and its current temperature in degrees Fahrenheit as of {today}.\")\n",
    "print(f\"If a city is closer to the equator, it is moderatlely more likely to have a higher temperature.\")"
   ]
  },
  {
   "cell_type": "markdown",
   "metadata": {},
   "source": [
    "####  Northern Hemisphere - Humidity (%) vs. Latitude Linear Regression"
   ]
  },
  {
   "cell_type": "code",
   "execution_count": null,
   "metadata": {},
   "outputs": [],
   "source": [
    "x_values = northern_lat_df['Latitude']\n",
    "max_lat=max(x_values)\n",
    "min_lat=min(x_values)\n",
    "range_lat=max_lat-min_lat\n",
    "y_values = northern_lat_df['Humidity (%)']\n",
    "max_y=max(y_values)\n",
    "min_y=min(y_values)\n",
    "range_y=max_y-min_y\n",
    "\n",
    "(slope, intercept, rvalue, pvalue, stderr) = linregress(x_values, y_values)\n",
    "regress_values = x_values * slope + intercept\n",
    "line_eq = \"y = \" + str(round(slope,2)) + \"x + \" + str(round(intercept,2))\n",
    "print(f\"r-squared = {rvalue**2}\")\n",
    "plt.scatter(x_values,y_values)\n",
    "plt.plot(x_values,regress_values,\"red\")\n",
    "plt.annotate(line_eq,(6,60),color=\"red\")\n",
    "plt.xlabel('Latitude')\n",
    "plt.ylabel('Humidity (%)')\n",
    "plt.title(f'Figure 7. Humidity (%) vs. City Latitude in the Northern Hemishpere ({today})')\n",
    "plt.xlim(round(min_lat-5),round(max_lat+5))\n",
    "plt.ylim(round(min_y-5), round(max_y+5))\n",
    "plt.tight_layout()\n",
    "\n",
    "plt.savefig(\"../output_data/Figure7.png\")\n",
    "plt.show()\n",
    "\n",
    "print(f\"Figure 7 does not show a significant relationship between a city's latitude in the Northern Hemishpere and its current percent humid as of {today}.\")"
   ]
  },
  {
   "cell_type": "markdown",
   "metadata": {},
   "source": [
    "####  Southern Hemisphere - Humidity (%) vs. Latitude Linear Regression"
   ]
  },
  {
   "cell_type": "code",
   "execution_count": null,
   "metadata": {},
   "outputs": [],
   "source": [
    "x_values = southern_lat_df['Latitude']\n",
    "max_lat=max(x_values)\n",
    "min_lat=min(x_values)\n",
    "range_lat=max_lat-min_lat\n",
    "y_values = southern_lat_df['Humidity (%)']\n",
    "max_y=max(y_values)\n",
    "min_y=min(y_values)\n",
    "range_y=max_y-min_y\n",
    "\n",
    "(slope, intercept, rvalue, pvalue, stderr) = linregress(x_values, y_values)\n",
    "regress_values = x_values * slope + intercept\n",
    "line_eq = \"y = \" + str(round(slope,2)) + \"x + \" + str(round(intercept,2))\n",
    "print(f\"r-squared = {rvalue**2}\")\n",
    "plt.scatter(x_values,y_values)\n",
    "plt.plot(x_values,regress_values,\"red\")\n",
    "plt.annotate(line_eq,(-50,40),color=\"red\")\n",
    "plt.xlabel('Latitude')\n",
    "plt.ylabel('Humidity (%)')\n",
    "plt.title(f'Figure 8. Humidity (%) vs. City Latitude in the Southern Hemishpere ({today})')\n",
    "plt.xlim(round(min_lat-5),round(max_lat+5))\n",
    "plt.ylim(round(min_y-5), round(max_y+5))\n",
    "plt.tight_layout()\n",
    "\n",
    "plt.savefig(\"../output_data/Figure8.png\")\n",
    "plt.show()\n",
    "\n",
    "print(f\"Figure 8 does not show a significant relationship between a city's latitude in the Southern Hemishpere and its current percent humid as of {today}.\")"
   ]
  },
  {
   "cell_type": "markdown",
   "metadata": {},
   "source": [
    "####  Northern Hemisphere - Cloudiness (%) vs. Latitude Linear Regression"
   ]
  },
  {
   "cell_type": "code",
   "execution_count": null,
   "metadata": {},
   "outputs": [],
   "source": [
    "x_values = northern_lat_df['Latitude']\n",
    "max_lat=max(x_values)\n",
    "min_lat=min(x_values)\n",
    "range_lat=max_lat-min_lat\n",
    "y_values = northern_lat_df['Cloudiness (%)']\n",
    "max_y=max(y_values)\n",
    "min_y=min(y_values)\n",
    "range_y=max_y-min_y\n",
    "\n",
    "(slope, intercept, rvalue, pvalue, stderr) = linregress(x_values, y_values)\n",
    "regress_values = x_values * slope + intercept\n",
    "line_eq = \"y = \" + str(round(slope,2)) + \"x + \" + str(round(intercept,2))\n",
    "print(f\"r-squared = {rvalue**2}\")\n",
    "plt.scatter(x_values,y_values)\n",
    "plt.plot(x_values,regress_values,\"red\")\n",
    "plt.annotate(line_eq,(6,40),color=\"red\")\n",
    "plt.xlabel('Latitude')\n",
    "plt.ylabel('Humidity (%)')\n",
    "plt.title(f'Figure 9. Cloudiness (%) vs. City Latitude in the Northern Hemishpere ({today})')\n",
    "plt.xlim(round(min_lat-5),round(max_lat+5))\n",
    "plt.ylim(round(min_y-5), round(max_y+5))\n",
    "plt.tight_layout()\n",
    "\n",
    "plt.savefig(\"../output_data/Figure9.png\")\n",
    "plt.show()\n",
    "\n",
    "print(f\"Figure 9 does not show a significant relationship between a city's latitude in the Northern Hemishpere and its current percent cloud coverage as of {today}.\")"
   ]
  },
  {
   "cell_type": "markdown",
   "metadata": {},
   "source": [
    "####  Southern Hemisphere - Cloudiness (%) vs. Latitude Linear Regression"
   ]
  },
  {
   "cell_type": "code",
   "execution_count": null,
   "metadata": {},
   "outputs": [],
   "source": [
    "x_values = southern_lat_df['Latitude']\n",
    "max_lat=max(x_values)\n",
    "min_lat=min(x_values)\n",
    "range_lat=max_lat-min_lat\n",
    "y_values = southern_lat_df['Cloudiness (%)']\n",
    "max_y=max(y_values)\n",
    "min_y=min(y_values)\n",
    "range_y=max_y-min_y\n",
    "\n",
    "(slope, intercept, rvalue, pvalue, stderr) = linregress(x_values, y_values)\n",
    "regress_values = x_values * slope + intercept\n",
    "line_eq = \"y = \" + str(round(slope,2)) + \"x + \" + str(round(intercept,2))\n",
    "print(f\"r-squared = {rvalue**2}\")\n",
    "plt.scatter(x_values,y_values)\n",
    "plt.plot(x_values,regress_values,\"red\")\n",
    "plt.annotate(line_eq,(-30,60),color=\"red\")\n",
    "plt.xlabel('Latitude')\n",
    "plt.ylabel('Humidity (%)')\n",
    "plt.title(f'Figure 10. Cloudiness (%) vs. City Latitude in the Southern Hemishpere ({today})')\n",
    "plt.xlim(round(min_lat-5),round(max_lat+5))\n",
    "plt.ylim(round(min_y-5), round(max_y+5))\n",
    "plt.tight_layout()\n",
    "\n",
    "plt.savefig(\"../output_data/Figure10.png\")\n",
    "plt.show()\n",
    "\n",
    "print(f\"Figure 10 does not show a significant relationship between a city's latitude in the Southern Hemishpere and its current percent cloud coverage as of {today}.\")"
   ]
  },
  {
   "cell_type": "markdown",
   "metadata": {},
   "source": [
    "####  Northern Hemisphere - Wind Speed (mph) vs. Latitude Linear Regression"
   ]
  },
  {
   "cell_type": "code",
   "execution_count": null,
   "metadata": {},
   "outputs": [],
   "source": [
    "x_values = northern_lat_df['Latitude']\n",
    "max_lat=max(x_values)\n",
    "min_lat=min(x_values)\n",
    "range_lat=max_lat-min_lat\n",
    "y_values = northern_lat_df['Wind Speed (mph)']\n",
    "max_y=max(y_values)\n",
    "min_y=min(y_values)\n",
    "range_y=max_y-min_y\n",
    "\n",
    "(slope, intercept, rvalue, pvalue, stderr) = linregress(x_values, y_values)\n",
    "regress_values = x_values * slope + intercept\n",
    "line_eq = \"y = \" + str(round(slope,2)) + \"x + \" + str(round(intercept,2))\n",
    "print(f\"r-squared = {rvalue**2}\")\n",
    "plt.scatter(x_values,y_values)\n",
    "plt.plot(x_values,regress_values,\"red\")\n",
    "plt.annotate(line_eq,(6,10),color=\"red\")\n",
    "plt.xlabel('Latitude')\n",
    "plt.ylabel('Wind Speed (mph)')\n",
    "plt.title(f'Figure 11. Wind Speed (mph) vs. City Latitude in the Northern Hemishpere ({today})')\n",
    "plt.xlim(round(min_lat-5),round(max_lat+5))\n",
    "plt.ylim(round(min_y-5), round(max_y+5))\n",
    "plt.tight_layout()\n",
    "\n",
    "plt.savefig(\"../output_data/Figure11.png\")\n",
    "plt.show()\n",
    "\n",
    "print(f\"Figure 11 does not show a significant relationship between a city's latitude in the Southern Hemishpere and its current wind speed in miles per hour as of {today}.\")"
   ]
  },
  {
   "cell_type": "markdown",
   "metadata": {},
   "source": [
    "####  Southern Hemisphere - Wind Speed (mph) vs. Latitude Linear Regression"
   ]
  },
  {
   "cell_type": "code",
   "execution_count": null,
   "metadata": {},
   "outputs": [],
   "source": [
    "x_values = southern_lat_df['Latitude']\n",
    "max_lat=max(x_values)\n",
    "min_lat=min(x_values)\n",
    "range_lat=max_lat-min_lat\n",
    "y_values = southern_lat_df['Wind Speed (mph)']\n",
    "max_y=max(y_values)\n",
    "min_y=min(y_values)\n",
    "range_y=max_y-min_y\n",
    "\n",
    "(slope, intercept, rvalue, pvalue, stderr) = linregress(x_values, y_values)\n",
    "regress_values = x_values * slope + intercept\n",
    "line_eq = \"y = \" + str(round(slope,2)) + \"x + \" + str(round(intercept,2))\n",
    "print(f\"r-squared = {rvalue**2}\")\n",
    "plt.scatter(x_values,y_values)\n",
    "plt.plot(x_values,regress_values,\"red\")\n",
    "plt.annotate(line_eq,(-15,25),color=\"red\")\n",
    "plt.xlabel('Latitude')\n",
    "plt.ylabel('Wind Speed (mph)')\n",
    "plt.title(f'Figure 12. Wind Speed (mph) vs. City Latitude in the Southern Hemishpere ({today})')\n",
    "plt.xlim(round(min_lat-5),round(max_lat+5))\n",
    "plt.ylim(round(min_y-5), round(max_y+5))\n",
    "plt.tight_layout()\n",
    "\n",
    "plt.savefig(\"../output_data/Figure12.png\")\n",
    "plt.show()\n",
    "\n",
    "print(f\"Figure 12 shows a weak, negative, linear relationship between a city's latitude in the Southern Hemishpere and its current wind speed in miles per hour as of {today}.\")\n",
    "print(f'The relationship may be due to outliers with relatively lower latitudes and relatively higher wind speeds. Further analysis should be conducted to account for these outliers')"
   ]
  },
  {
   "cell_type": "code",
   "execution_count": null,
   "metadata": {},
   "outputs": [],
   "source": []
  }
 ],
 "metadata": {
  "anaconda-cloud": {},
  "kernel_info": {
   "name": "python3"
  },
  "kernelspec": {
   "display_name": "Python 3",
   "language": "python",
   "name": "python3"
  },
  "language_info": {
   "codemirror_mode": {
    "name": "ipython",
    "version": 3
   },
   "file_extension": ".py",
   "mimetype": "text/x-python",
   "name": "python",
   "nbconvert_exporter": "python",
   "pygments_lexer": "ipython3",
   "version": "3.8.5"
  },
  "latex_envs": {
   "LaTeX_envs_menu_present": true,
   "autoclose": false,
   "autocomplete": true,
   "bibliofile": "biblio.bib",
   "cite_by": "apalike",
   "current_citInitial": 1,
   "eqLabelWithNumbers": true,
   "eqNumInitial": 1,
   "hotkeys": {
    "equation": "Ctrl-E",
    "itemize": "Ctrl-I"
   },
   "labels_anchors": false,
   "latex_user_defs": false,
   "report_style_numbering": false,
   "user_envs_cfg": false
  },
  "nteract": {
   "version": "0.12.3"
  }
 },
 "nbformat": 4,
 "nbformat_minor": 2
}
